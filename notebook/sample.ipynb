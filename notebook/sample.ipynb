{
  "nbformat": 4,
  "nbformat_minor": 0,
  "metadata": {
    "colab": {
      "name": "検証",
      "provenance": [],
      "collapsed_sections": []
    },
    "kernelspec": {
      "name": "python3",
      "display_name": "Python 3"
    },
    "language_info": {
      "name": "python"
    },
    "accelerator": "GPU",
    "gpuClass": "standard"
  },
  "cells": [
    {
      "cell_type": "code",
      "execution_count": null,
      "metadata": {
        "id": "3mEm-GLVBfr8"
      },
      "outputs": [],
      "source": [
        "!git clone https://github.com/kasajei/ja_bert_finetuning\n",
        "%cd ja_bert_finetuning\n",
        "!git clone https://github.com/megagonlabs/jrte-corpus\n",
        "%cd /content"
      ]
    },
    {
      "cell_type": "code",
      "source": [
        "!wget \"https://github.com/ku-nlp/jumanpp/releases/download/v2.0.0-rc3/jumanpp-2.0.0-rc3.tar.xz\"\n",
        "!tar xvJf jumanpp-2.0.0-rc3.tar.xz\n",
        "%cd jumanpp-2.0.0-rc3\n",
        "!sudo mkdir bld \n",
        "%cd bld\n",
        "!cmake .. -DCMAKE_BUILD_TYPE=Release\n",
        "!sudo make install -j \"$(nproc)\"\n",
        "!sudo make install\n",
        "%cd /content"
      ],
      "metadata": {
        "id": "V15AdLdmCBuE"
      },
      "execution_count": null,
      "outputs": []
    },
    {
      "cell_type": "code",
      "source": [
        "!pip install -r ja_bert_finetuning/requirements.txt"
      ],
      "metadata": {
        "id": "m5TI5n42ByCB"
      },
      "execution_count": null,
      "outputs": []
    },
    {
      "cell_type": "code",
      "source": [
        "%cd ja_bert_finetuning\n",
        "!python jrte/sentiment.py --model-name nlp-waseda/roberta-base-japanese"
      ],
      "metadata": {
        "id": "OSnVmsesB8Jm"
      },
      "execution_count": null,
      "outputs": []
    },
    {
      "cell_type": "code",
      "source": [
        ""
      ],
      "metadata": {
        "id": "CEiNEE_TDZnj"
      },
      "execution_count": null,
      "outputs": []
    }
  ]
}